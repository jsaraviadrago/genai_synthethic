{
 "cells": [
  {
   "metadata": {},
   "cell_type": "markdown",
   "source": [
    "# This the task for GEN-AI from Vincent's Granvilles book \"Synthetic Data and Generative AI\"\n",
    "\n",
    "The first thing is to import the packages"
   ],
   "id": "99a030b922322153"
  },
  {
   "cell_type": "code",
   "id": "initial_id",
   "metadata": {
    "collapsed": true,
    "ExecuteTime": {
     "end_time": "2024-06-13T21:07:35.092482Z",
     "start_time": "2024-06-13T21:07:35.089077Z"
    }
   },
   "source": [
    "import pandas as pd\n",
    "import matplotlib.pyplot as plt\n",
    "import numpy as np\n",
    "import scipy\n",
    "from scipy.stats import ks_2samp\n",
    "from statsmodels.distributions.empirical_distribution import ECDF\n",
    "\n",
    "\n",
    "\n",
    "\n"
   ],
   "outputs": [],
   "execution_count": 4
  },
  {
   "metadata": {},
   "cell_type": "markdown",
   "source": [
    "Reading the data from Github from the Vincent Granville's [repo](https://github.com/VincentGranville/Main) \n",
    "\n",
    "The link for the project book is [here](https://github.com/VincentGranville/Large-Language-Models/blob/main/Projects4.pdf)"
   ],
   "id": "fb7cc49a2e0153a3"
  },
  {
   "metadata": {
    "ExecuteTime": {
     "end_time": "2024-06-13T22:16:29.184605Z",
     "start_time": "2024-06-13T22:16:29.076515Z"
    }
   },
   "cell_type": "code",
   "source": [
    "# Selecting the needed data frames according to the project book. \n",
    "insurance = 'insurance.csv'\n",
    "insurance_compare = 'insurance_compare.csv'\n",
    "\n",
    "# Getting the URL\n",
    "url = \"https://raw.githubusercontent.com/VincentGranville/Main/main/\"\n",
    "\n",
    "# Separating the raw data frames\n",
    "raw_insurance =  url + insurance \n",
    "raw_insurance_compare = url + insurance_compare \n",
    "\n",
    "# Opening the links with pandas.\n",
    "df_insurance = pd.read_csv(raw_insurance)\n",
    "df_insurance_compare = pd.read_csv(raw_insurance_compare)\n"
   ],
   "id": "c7cced62241d1f8b",
   "outputs": [],
   "execution_count": 51
  },
  {
   "metadata": {},
   "cell_type": "markdown",
   "source": "### Step 1: Making the histograms for the numerical variables ",
   "id": "aa25d2d542ee9d25"
  },
  {
   "metadata": {},
   "cell_type": "code",
   "source": [
    "fig, axs = plt.subplots(2, 2)\n",
    "axs[0, 0].hist(df_insurance['age'])\n",
    "axs[0, 0].set_title(\"Age\")\n",
    "axs[1, 0].hist(df_insurance['charges'])\n",
    "axs[1, 0].set_title(\"Charges\")\n",
    "axs[0, 1].hist(df_insurance['bmi'])\n",
    "axs[0, 1].set_title(\"Bmi\")\n",
    "fig.tight_layout()\n",
    "\n",
    "\n"
   ],
   "id": "b0e1292e7cd095cd",
   "outputs": [],
   "execution_count": null
  },
  {
   "metadata": {},
   "cell_type": "markdown",
   "source": [
    "## Step 2: perform evaluations of vendor comparisons\n",
    "\n",
    "Preparing the data to make some analysis. \n",
    "- Drop columns\n",
    "- Erase NA values"
   ],
   "id": "f5d626f00232f499"
  },
  {
   "metadata": {
    "ExecuteTime": {
     "end_time": "2024-06-13T22:16:33.563421Z",
     "start_time": "2024-06-13T22:16:33.556144Z"
    }
   },
   "cell_type": "code",
   "source": [
    "# Watch out with this code, since I am overwriting the dataset you need to run first the second cell or an error will be thrown. This can be fixed if you use a script. \n",
    "\n",
    "df_insurance_compare = df_insurance_compare.drop('region', axis=1) # drop columns that are not useful\n",
    "df_insurance_compare = df_insurance_compare.dropna(axis='columns') # Drop na row wise. \n",
    "\n",
    "# Create a dataset of insurance compare with only Real category\n",
    "df_insurance_compare_real = df_insurance_compare.loc[df_insurance_compare['Data'] == 'Real'] \n",
    "\n",
    "df_insurance_compare_real = df_insurance_compare_real.drop('Data', axis=1) # drop all the NA values from Data column\n",
    "df_insurance_compare_real = df_insurance_compare_real.to_numpy() # this transforms the code into a matrix in order to run the next line of code.\n",
    "\n"
   ],
   "id": "707a468d582fa2b9",
   "outputs": [],
   "execution_count": 52
  },
  {
   "metadata": {},
   "cell_type": "markdown",
   "source": [
    "## Step 2.1: run the analysis after preparing the data\n",
    "\n",
    "What did I do here? \n",
    "- Correlation matrix\n",
    "- Drop the real category from the original data frame called ```df_insurance_compare```"
   ],
   "id": "e71c6f6bf4d6fc62"
  },
  {
   "metadata": {},
   "cell_type": "markdown",
   "source": "",
   "id": "edb2c5c5735f8b8"
  },
  {
   "metadata": {
    "ExecuteTime": {
     "end_time": "2024-06-13T22:16:37.915775Z",
     "start_time": "2024-06-13T22:16:37.910379Z"
    }
   },
   "cell_type": "code",
   "source": [
    "# Making a correlation matrix with coefficients\n",
    "r_corr = np.corrcoef(df_insurance_compare_real.T) # Here you need to transpose the data so it makes sense\n",
    "\n",
    "#r_corr # this code prints the correlation matrix. Note if I use print it also works the only differences is that it outputs in pure python form\n",
    "\n",
    "ltests = df_insurance_compare.Data.unique().tolist() # Here it just shows all the unique categories of the Data variable\n",
    "popped_item = ltests.pop(0)   # remove real data from the tests\n",
    "#print(ltests) # it just prints that the ltests object does not have the \"Real\" category\n",
    "\n"
   ],
   "id": "631d0b20e21e406",
   "outputs": [],
   "execution_count": 53
  },
  {
   "metadata": {},
   "cell_type": "markdown",
   "source": [
    "## Step 2.2: run the analysis to check for the data\n",
    "\n",
    "- Calculate the distance of the correlation matrix\n",
    "- Calculate the distance of the Kolmogorov-Smirnov "
   ],
   "id": "93582734727abd32"
  },
  {
   "metadata": {},
   "cell_type": "code",
   "source": [
    "for test in ltests:\n",
    "\n",
    "    data_test = df_insurance_compare.loc[df_insurance_compare['Data'] == test] # select the category test\n",
    "    data_test = data_test.drop('Data', axis=1) # Drop the column Data from the test_data\n",
    "    data_test = data_test.to_numpy() # change the data frame into a matrix\n",
    "    t_corr = np.corrcoef(data_test.T) # Run a correlation matrix\n",
    "    delta = np.abs(t_corr - r_corr) # calculating the delta or difference between the correlation matrices of both test sets. The nearest to 0 the best match. \n",
    "    dim = delta.shape[0]   # number of features\n",
    "  \n",
    "    ks = np.zeros(dim) # Here I want to calculate the Kolmogorov-Smirnov distance remember that the lower the distance the better. Lower distance means more similarity. \n",
    "    out_of_range = 0\n",
    "    for idx in range(dim): # This for loop just loops throw all the m columns \n",
    "        dr = df_insurance_compare_real[:,idx]\n",
    "        dt = data_test[:,idx]\n",
    "        stats = ks_2samp(dr, dt)\n",
    "        ks[idx] = stats.statistic # Calculate the Kolmogorov-Smirnov distance throw all the columns\n",
    "        if np.min(dt) < np.min(dr) or np.max(dt) > np.max(dr):\n",
    "            out_of_range = 1\n",
    "    str = \"%20s %14s %8.6f %8.6f %8.6f %8.6f %1d\" % (insurance_compare, test, np.mean(delta), \n",
    "              np.max(delta), np.mean(ks), np.max(ks), out_of_range)\n",
    "    print(str)\n",
    "    \n"
   ],
   "id": "a1a45888a898a7d5",
   "outputs": [],
   "execution_count": null
  },
  {
   "metadata": {},
   "cell_type": "markdown",
   "source": "",
   "id": "e752f7b3d92d5a75"
  },
  {
   "metadata": {},
   "cell_type": "markdown",
   "source": [
    "### Step 2.3: create the scatterplot\n",
    "\n",
    "Creating a function for the scatterplot\n",
    "\n"
   ],
   "id": "20bd3b6fbf0b3a4a"
  },
  {
   "metadata": {
    "ExecuteTime": {
     "end_time": "2024-06-13T22:33:20.138496Z",
     "start_time": "2024-06-13T22:33:20.134230Z"
    }
   },
   "cell_type": "code",
   "source": [
    "def vg_scatter(df_insurance_compare, test, counter):\n",
    "\n",
    "    # customized plots, insurance data \n",
    "    # one of 6 plots, subplot position based on counter\n",
    "\n",
    "    data_plot = df_insurance_compare.loc[df_insurance_compare['Data'] == test]\n",
    "    x = data_plot[['age']].to_numpy()\n",
    "    y = data_plot[['charges']].to_numpy()\n",
    "    plt.subplot(2, 3, counter)\n",
    "    plt.scatter(x, y, s = 0.1, c =\"blue\")\n",
    "    plt.xlabel(test, fontsize = 7)\n",
    "    plt.xticks([])\n",
    "    plt.yticks([])\n",
    "    plt.ylim(0,70000)\n",
    "    plt.xlim(18,64)\n",
    "    return()\n",
    "\n"
   ],
   "id": "419afe81ed7c0460",
   "outputs": [],
   "execution_count": 58
  },
  {
   "metadata": {},
   "cell_type": "markdown",
   "source": [
    "### Step 2.4: Create the histogram\n",
    "\n",
    "Creating a function for the histogram\n",
    "\n",
    "\n"
   ],
   "id": "91c054a1a4afbd58"
  },
  {
   "metadata": {
    "ExecuteTime": {
     "end_time": "2024-06-13T22:32:40.091166Z",
     "start_time": "2024-06-13T22:32:40.084538Z"
    }
   },
   "cell_type": "code",
   "source": [
    "def vg_histo(df, test, counter):\n",
    "\n",
    "    # customized plots, insurance data \n",
    "    # one of 6 plots, subplot position based on counter\n",
    "\n",
    "    data_plot = df_insurance_compare.loc[df['Data'] == test]\n",
    "    y = data_plot[['charges']].to_numpy()\n",
    "    plt.subplot(2, 3, counter)\n",
    "    binBoundaries = np.linspace(0, 70000, 30)\n",
    "    plt.hist(y, bins=binBoundaries, color='white', align='mid',edgecolor='red',\n",
    "              linewidth = 0.3) \n",
    "    plt.xlabel(test, fontsize = 7)\n",
    "    plt.xticks([])\n",
    "    plt.yticks([])\n",
    "    plt.xlim(0,70000)\n",
    "    plt.ylim(0, 250)\n",
    "    return()"
   ],
   "id": "5fd74a26f9dd723d",
   "outputs": [],
   "execution_count": 57
  },
  {
   "metadata": {},
   "cell_type": "markdown",
   "source": "",
   "id": "72c94e3bf9b39540"
  }
 ],
 "metadata": {
  "kernelspec": {
   "display_name": "Python 3",
   "language": "python",
   "name": "python3"
  },
  "language_info": {
   "codemirror_mode": {
    "name": "ipython",
    "version": 2
   },
   "file_extension": ".py",
   "mimetype": "text/x-python",
   "name": "python",
   "nbconvert_exporter": "python",
   "pygments_lexer": "ipython2",
   "version": "2.7.6"
  }
 },
 "nbformat": 4,
 "nbformat_minor": 5
}
